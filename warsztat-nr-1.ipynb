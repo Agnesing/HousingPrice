{
 "cells": [
  {
   "cell_type": "markdown",
   "metadata": {},
   "source": [
    "## **WARSZTAT NR 1**"
   ]
  },
  {
   "cell_type": "markdown",
   "metadata": {},
   "source": [
    "## **GIT**\n",
    "\n",
    "https://git-scm.com/download/ // download\n",
    "\n",
    "https://github.com/\n",
    "\n",
    "- Różnice pomiędzy Gitem a innymi systemami kontroli wersji\n",
    "\n",
    "---\n",
    "\n",
    "Trzy stany plików:\n",
    "- modified\n",
    "- staged\n",
    "- committed\n",
    "\n",
    "---\n",
    "\n",
    "Projekt w Gicie dzieli się na:\n",
    "- working directory\n",
    "- \"index\"\n",
    "- .git directory\n",
    "\n",
    "---\n",
    "\n",
    "- Workflow\n",
    "\n",
    "modify -> **working directory** -> stage -> **index** -> commit -> **.git repository**\n",
    "\n",
    "---\n",
    "\n",
    "Git config:\n",
    "```\n",
    "$ git config [--global] user.name \"X Y\"\n",
    "$ git config [--global] user.email xy@xy.com\n",
    "$ git config --list\n",
    "```\n",
    "\n",
    "---\n",
    "\n",
    "Tworzenie  i używanie repozytorium:\n",
    "```\n",
    "$ cd *\n",
    "$ git init\n",
    "$ git add *\n",
    "$ git status\n",
    "$ git diff\n",
    "$ git commit -m \"tell everyone why do you want to commit these files\"\n",
    "```\n",
    "\n",
    "Kopiowanie repozytorium z serwera:\n",
    "```\n",
    "$ git clone https://* new_dir\n",
    "```\n",
    "lub\n",
    "```\n",
    "git clone user@server:/pathtorepo.git\n",
    "```\n",
    "\n",
    "Omówienie najważniejszych komend (**spróbuj przećwiczyć je w ramach zadania domowego!**)\n",
    "```\n",
    "$ git branch nazwa_brancha\n",
    "$ git checkout nazwa_brancha\n",
    "$ git merge nazwa_brancha\n",
    "$ git branch -a\n",
    "\n",
    "$ git branch --move nazwa_brancha nowa_nazwa_brancha\n",
    "$ git push --set-upstream origin nowa_nazwa_brancha\n",
    "$ git push origin --delete nazwa_brancha\n",
    "\n",
    "$ git pull [origin master]\n",
    "$ git fetch\n",
    "$ git remote show origin\n",
    "\n",
    "$ git diff > *.patch\n",
    "\n",
    "$ git log\n",
    "```\n"
   ]
  },
  {
   "cell_type": "markdown",
   "metadata": {},
   "source": [
    "sourcetree"
   ]
  },
  {
   "cell_type": "markdown",
   "metadata": {},
   "source": [
    "## **Jupyter Notebook**\n",
    "\n",
    "Projekt open source, interfejs do tworzenia notatnika z obliczeniami, wizualizacją wyników, fragmentami kodu itp.\n",
    "\n",
    "https://jupyter.org/\n",
    "\n",
    "Python może być jednym z wielu jąder obliczeniowych Jupytera.\n",
    "\n",
    "```\n",
    "$ pip install jupyter\n",
    "$ cd *\n",
    "$ jupyter notebook\n",
    "```\n",
    "\n",
    "---\n",
    "\n",
    "Prezentacja działania"
   ]
  },
  {
   "cell_type": "markdown",
   "metadata": {},
   "source": [
    "## **Kaggle**\n",
    "\n",
    "https://www.kaggle.com/competitions //zadania i zawody\n",
    "\n",
    "https://www.kaggle.com/learn/intro-to-machine-learning //podstawy ML\n",
    "\n",
    "https://www.kaggle.com/kernels //notebooks\n",
    "\n",
    "https://www.kaggle.com/datasets //zbiory danych\n",
    "\n",
    "https://www.kaggle.com/learn/overview //kursy - także Python\n",
    "\n",
    "https://www.kaggle.com/dansbecker/getting-started-with-sql-and-bigquery //jak połączyć się z bazą danych na podstawie Big Query Google (więcej na ten temat tu: https://googleapis.dev/python/bigquery/latest/magics.html)\n",
    "\n",
    "**Nasz zbiór danych - Beijing PM2.5:**\n",
    "https://www.kaggle.com/sid321axn/beijing-multisite-airquality-data-set?select=PRSA_Data_Gucheng_20130301-20170228.csv\n",
    "\n",
    "**Oryginalne źródło danych i opis:**\n",
    "https://archive.ics.uci.edu/ml/datasets/Beijing+Multi-Site+Air-Quality+Data"
   ]
  },
  {
   "cell_type": "markdown",
   "metadata": {},
   "source": [
    "## **Markdown**\n",
    "Jak formatować komórki z tekstem?\n",
    "https://github.com/adam-p/markdown-here/wiki/Markdown-Cheatsheet"
   ]
  },
  {
   "cell_type": "markdown",
   "metadata": {},
   "source": [
    "## **Biblioteki**\n",
    "\n",
    "Biblioteki znacząco usprawniają proces programowania i poprawiają jakość kodu.\n",
    "\n",
    "Python oferuje wiele bibliotek dla specjalistów z dziedziny Data Science i ML.\n",
    "Wiele z nich to \"must have\" dla programisty Pythona. Wśród nich można wymienić:\n",
    "\n",
    "- TensorFlow: biblioteka do ML rozwijana przez Google, https://www.tensorflow.org/\n",
    "- Scikit-Learn: jedna z najlepszych bibliotek do pracy ze złożonymi danymi, powiązana z Numpy i Scipy, https://scikit-learn.org/stable/\n",
    "- Numpy: biblioteka do analizy danych, z interfejsem macierzowym, https://numpy.org/\n",
    "- Keras: modele sieci neuronowych, https://keras.io/\n",
    "- PyTorch: biblioteka ML, https://pytorch.org/\n",
    "- SciPy: biblioteka ML, wykorzystywana przez inżynierów i developerów, zawiera moduły do optymalizacji, algebry liniowej, statystyki, https://www.scipy.org/\n",
    "- Pandas: biblioteka do grupowania i filtrowania danych, upraszcza proces analizy danych, https://pandas.pydata.org/\n"
   ]
  },
  {
   "cell_type": "markdown",
   "metadata": {},
   "source": [
    "## **Podstawy programowania w Pythonie**\n",
    "\n",
    "Python jest językiem interpretowanym, nie kompilowanym.\n",
    "\n",
    "Wcięcia w kodzie są bardzo ważne. Musi to być min. 1 spacja, aby uniknąć błędów.\n",
    "\n",
    "Uruchamianie kodu: linia po linii w konsoli lub program w pliku *.py\n",
    "```\n",
    "$ python\n",
    "$ >>> linia kodu...\n",
    "$ >>> exit()\n",
    "```\n",
    "Lub:\n",
    "```\n",
    "$ python plik.py\n",
    "```\n",
    "\n",
    "Komentowanie kodu: <code># komentarz</code>\n",
    "\n",
    "---\n",
    "\n",
    "**Typy danych - przykłady**\n",
    "\n",
    "- Text: <code>str</code>\n",
    "- Numeric: <code>int, float, complex</code>\n",
    "- Sequence: <code>list, tuple, range</code>\n",
    "- Mapping: <code>dict</code>\n",
    "- Set: <code>set</code>\n",
    "- Boolean: <code>bool</code>\n",
    "- Binary: <code>bytes</code>\n",
    "\n",
    "Casting: np. <code>x = str(100)</code>\n"
   ]
  },
  {
   "cell_type": "code",
   "execution_count": 1,
   "metadata": {},
   "outputs": [
    {
     "name": "stdout",
     "output_type": "stream",
     "text": [
      "hello world <class 'str'>\n",
      "2 <class 'int'>\n",
      "2.0 <class 'float'>\n",
      "10j <class 'complex'>\n",
      "[1, 2, 3] <class 'list'>\n",
      "('x', 'y') <class 'tuple'>\n",
      "range(0, 5) <class 'range'>\n",
      "{'users': 20} <class 'dict'>\n",
      "{'set2', 'set1'} <class 'set'>\n",
      "True <class 'bool'>\n",
      "b'Bytes' <class 'bytes'>\n"
     ]
    }
   ],
   "source": [
    "x = \"hello world\"\n",
    "print(x, type(x))\n",
    "x = 2\n",
    "print(x, type(x))\n",
    "x = 2.0\n",
    "print(x, type(x))\n",
    "x = 10j\n",
    "print(x, type(x))\n",
    "x = [1, 2, 3]\n",
    "print(x, type(x))\n",
    "x = (\"x\", \"y\")\n",
    "print(x, type(x))\n",
    "x = range(5) # from 0 to n-1\n",
    "print(x, type(x))\n",
    "x = {\"users\": 20}\n",
    "print(x, type(x))\n",
    "x = {\"set1\", \"set2\"}\n",
    "print(x, type(x))\n",
    "x = True\n",
    "print(x, type(x))\n",
    "x = b\"Bytes\"\n",
    "print(x, type(x))"
   ]
  },
  {
   "cell_type": "markdown",
   "metadata": {},
   "source": [
    "**Nazwy zmiennych**\n",
    "\n",
    "- Początek nazw zmiennych: zawsze litera lub _\n",
    "\n",
    "- Camel/Pascal/Snake Case: myName, MyName, my_name"
   ]
  },
  {
   "cell_type": "markdown",
   "metadata": {},
   "source": [
    "**Wczytywanie danych z plików**\n",
    "\n",
    "https://docs.python.org/3/library/functions.html#open\n",
    "\n",
    "Używamy wbudowanej funkcji <code>open</code>, w której wymaganym argumentem jest <code>path</code>, a opcjonalnym <code>mode</code>.\n",
    "\n",
    "```\n",
    "f = open(path, mode)\n",
    "```\n",
    "\n",
    "<code>mode</code> to tryb, w którym otwarty jest plik, np. \n",
    "- <code>r</code> - open for reading,\n",
    "```\n",
    "f.read()\n",
    "```\n",
    "- <code>w</code> - open for writing. \n",
    "```\n",
    "f.write(something)\n",
    "```\n",
    "\n",
    "Obowiązkiem programującego jest dopilnować późniejszego zamknięcia pliku. Można to zrobić na 2 sposoby: za pomocą <code>try/finally</code> lub za pomocą <code>with</code>. Druga z tych opcji jest bardziej eleganckim rozwiązaniem i pozwala uzyskać lepszą kontrolę nad obsługą wyjątków.\n",
    "\n",
    "- metoda z <code>try/finally</code>\n",
    "\n",
    "```\n",
    "f = open(path)\n",
    "try:\n",
    "    # dalsze przetwarzanie danych z pliku\n",
    "finally:\n",
    "    f.close()\n",
    "```\n",
    "\n",
    "- metoda z <code>with</code>\n",
    "\n",
    "```\n",
    "with open(path, mode) as f:\n",
    "    # dalsze przetwarzanie danych z pliku\n",
    "```\n",
    "\n",
    "\n",
    "\n",
    "\n",
    "\n",
    "\n"
   ]
  },
  {
   "cell_type": "code",
   "execution_count": 3,
   "metadata": {},
   "outputs": [
    {
     "name": "stdout",
     "output_type": "stream",
     "text": [
      "Hello world!\n"
     ]
    }
   ],
   "source": [
    "with open('helloworld.txt', 'r') as f:\n",
    "    # dalsze przetwarzanie danych z pliku\n",
    "    print(f.readline())\n",
    "    #print(f.read())\n",
    "    #print(f.readlines())"
   ]
  },
  {
   "cell_type": "code",
   "execution_count": 4,
   "metadata": {},
   "outputs": [
    {
     "ename": "ValueError",
     "evalue": "I/O operation on closed file.",
     "output_type": "error",
     "traceback": [
      "\u001b[1;31m---------------------------------------------------------------------------\u001b[0m",
      "\u001b[1;31mValueError\u001b[0m                                Traceback (most recent call last)",
      "\u001b[1;32m<ipython-input-4-7ede92726a19>\u001b[0m in \u001b[0;36m<module>\u001b[1;34m\u001b[0m\n\u001b[1;32m----> 1\u001b[1;33m \u001b[0mprint\u001b[0m\u001b[1;33m(\u001b[0m\u001b[0mf\u001b[0m\u001b[1;33m.\u001b[0m\u001b[0mreadline\u001b[0m\u001b[1;33m(\u001b[0m\u001b[1;33m)\u001b[0m\u001b[1;33m)\u001b[0m\u001b[1;33m\u001b[0m\u001b[1;33m\u001b[0m\u001b[0m\n\u001b[0m",
      "\u001b[1;31mValueError\u001b[0m: I/O operation on closed file."
     ]
    }
   ],
   "source": [
    "print(f.readline())"
   ]
  },
  {
   "cell_type": "markdown",
   "metadata": {},
   "source": [
    "**Podstawowe funkcje i rekurencja**\n",
    "\n",
    "Definicję funkcji zaczyna się od słowa kluczowego <code>def</code>.\n",
    "\n",
    "Ważne, aby pamiętać o wcięciach. W przypadku Pythona jest to nie tylko kwestia 'kosmetyczna', ale też konieczna, aby kod nie zwrócił błędu."
   ]
  },
  {
   "cell_type": "code",
   "execution_count": 5,
   "metadata": {},
   "outputs": [],
   "source": [
    "def funkcja():\n",
    "    pass # statement używany w celu uniknięcia błędu, gdy nie mamy jeszcze zdefiniowanej treści funkcji\n",
    "\n",
    "funkcja()"
   ]
  },
  {
   "cell_type": "markdown",
   "metadata": {},
   "source": [
    "**Argumenty i parametry**\n",
    "\n",
    "Parametry to zmienne wewnątrz nawiasów w definicji funkcji.\n",
    "Argumenty to wartości zmiennych przesyłane w momencie wywoływania funkcji."
   ]
  },
  {
   "cell_type": "code",
   "execution_count": 6,
   "metadata": {},
   "outputs": [
    {
     "data": {
      "text/plain": [
       "6"
      ]
     },
     "execution_count": 6,
     "metadata": {},
     "output_type": "execute_result"
    }
   ],
   "source": [
    "def funkcja(arg1, arg2): # parametry\n",
    "    return(arg1 + arg2)\n",
    "\n",
    "funkcja(1, 5) # argumenty"
   ]
  },
  {
   "cell_type": "markdown",
   "metadata": {},
   "source": [
    "Jeżeli liczba argumentów nie jest zdefiniowana z góry, należy użyć * przed nazwą parametru."
   ]
  },
  {
   "cell_type": "code",
   "execution_count": 7,
   "metadata": {},
   "outputs": [
    {
     "data": {
      "text/plain": [
       "23"
      ]
     },
     "execution_count": 7,
     "metadata": {},
     "output_type": "execute_result"
    }
   ],
   "source": [
    "def funkcja(*args): # parametry\n",
    "    return(sum(args))\n",
    "\n",
    "funkcja(1, 5, 8, 9) # argumenty"
   ]
  },
  {
   "cell_type": "code",
   "execution_count": 8,
   "metadata": {},
   "outputs": [
    {
     "data": {
      "text/plain": [
       "4"
      ]
     },
     "execution_count": 8,
     "metadata": {},
     "output_type": "execute_result"
    }
   ],
   "source": [
    "funkcja(1, 3) # argumenty"
   ]
  },
  {
   "cell_type": "markdown",
   "metadata": {},
   "source": [
    "Jeżeli liczba nazwanych argumentów nie jest zdefiniowana z góry, należy użyć ** przed nazwą parametru."
   ]
  },
  {
   "cell_type": "code",
   "execution_count": 9,
   "metadata": {},
   "outputs": [
    {
     "name": "stdout",
     "output_type": "stream",
     "text": [
      "{'no1': 1, 'no2': 5, 'no3': 8, 'no4': 9}\n"
     ]
    }
   ],
   "source": [
    "def funkcja(**args): # parametry\n",
    "    return(print(args))\n",
    "\n",
    "funkcja(no1=1, no2=5, no3=8, no4=9) # argumenty"
   ]
  },
  {
   "cell_type": "code",
   "execution_count": 10,
   "metadata": {},
   "outputs": [
    {
     "name": "stdout",
     "output_type": "stream",
     "text": [
      "{'no1': 1, 'no2': 0, 'no3': 4, 'no4': 5, 'no5': 20}\n"
     ]
    }
   ],
   "source": [
    "funkcja(no1=1, no2=0, no3=4, no4=5, no5=20) # argumenty"
   ]
  },
  {
   "cell_type": "markdown",
   "metadata": {},
   "source": [
    "**Rekurencja**"
   ]
  },
  {
   "cell_type": "markdown",
   "metadata": {},
   "source": [
    "Rekurencja jest powszechnie stosowana w matematyce i programowaniu. \n",
    "\n",
    "Zdefiniowana funkcja wywołuje samą siebie, więc należy uważać na to, by nie zaprogramować funkcji 'nigdy nie kończącej się' lub obciążającej nadmiernie procesor.\n",
    "\n",
    "Aby zdefiniować funkcję rekurencyjnie, należy znać przypadek bazowy/początkowy oraz regułę.\n",
    "\n",
    "Jednym z popularnych przykładów funkcji zdefiniowanych rekurencyjnie jest silnia.\n",
    "\n",
    "- przypadek bazowy: 0! = 1\n",
    "- reguła: n! = (n - 1)! * n, dla n > 1\n"
   ]
  },
  {
   "cell_type": "code",
   "execution_count": 11,
   "metadata": {},
   "outputs": [
    {
     "data": {
      "text/plain": [
       "6"
      ]
     },
     "execution_count": 11,
     "metadata": {},
     "output_type": "execute_result"
    }
   ],
   "source": [
    "def factorial(n):\n",
    "   if n == 0:\n",
    "       return 1\n",
    "   else:\n",
    "       return n*factorial(n-1)\n",
    "\n",
    "factorial(3)"
   ]
  },
  {
   "cell_type": "code",
   "execution_count": 12,
   "metadata": {},
   "outputs": [
    {
     "data": {
      "text/plain": [
       "1"
      ]
     },
     "execution_count": 12,
     "metadata": {},
     "output_type": "execute_result"
    }
   ],
   "source": [
    "factorial(0)"
   ]
  },
  {
   "cell_type": "code",
   "execution_count": 13,
   "metadata": {},
   "outputs": [
    {
     "data": {
      "text/plain": [
       "1"
      ]
     },
     "execution_count": 13,
     "metadata": {},
     "output_type": "execute_result"
    }
   ],
   "source": [
    "factorial(1)"
   ]
  },
  {
   "cell_type": "markdown",
   "metadata": {},
   "source": [
    "**Zadanie do realizacji w domu**\n",
    "\n",
    "http://algorytmy.ency.pl/artykul/quicksort\n"
   ]
  },
  {
   "cell_type": "code",
   "execution_count": 24,
   "metadata": {},
   "outputs": [
    {
     "name": "stdout",
     "output_type": "stream",
     "text": [
      "[0, 2, 2, 3, 6, 7, 8, 9]\n"
     ]
    }
   ],
   "source": [
    "# Tutaj zaimplementuj rekurencyjnie algorytm sortowania Quicksort.\n",
    "\n",
    "list = [8,3,6,2,7,9,0,2]\n",
    "\n",
    "def sort(array):\n",
    "    \"\"\"Sort the array by using quicksort.\"\"\"\n",
    "\n",
    "    less = []\n",
    "    equal = []\n",
    "    greater = []\n",
    "\n",
    "    if len(array) > 1:\n",
    "        pivot = array[0]\n",
    "        for x in array:\n",
    "            if x < pivot:\n",
    "                less.append(x)\n",
    "            elif x == pivot:\n",
    "                equal.append(x)\n",
    "            elif x > pivot:\n",
    "                greater.append(x)\n",
    "        return sort(less)+equal+sort(greater)  \n",
    "    else:  \n",
    "        return array\n",
    "\n",
    "print(sort(list))"
   ]
  },
  {
   "cell_type": "markdown",
   "metadata": {},
   "source": [
    "**Klasy i obiekty**\n",
    "\n",
    "Python jest językiem zorientowanym obiektowo. Tego rodzaju języki programowania bazują na obiektach w przeciwieństwie do programowania proceduralnego, gdzie nacisk kładziony jest na funkcje.\n",
    "\n",
    "Klasa stanowi 'projekt' obiektu. Obiekt jest instancją klasy. Na bazie jednej klasy można utworzyć wiele obiektów.\n",
    "\n",
    "Definicję klasy zaczyna się od słowa kluczowego <code>class</code>. Jednocześnie zostaje utworzony obiekt danej klasy o tej samej nazwie. Atrybutami klasy mogą być dane lub funkcje."
   ]
  },
  {
   "cell_type": "code",
   "execution_count": 29,
   "metadata": {},
   "outputs": [
    {
     "name": "stdout",
     "output_type": "stream",
     "text": [
      "Docstring\n",
      "<function NowaKlasa.przedstaw_atrybut at 0x000001D40C3B40D8>\n",
      "Wartosc atrybutu wynosi: 0\n",
      "Wartosc atrybutu wynosi: 5\n",
      "<__main__.NowaKlasa object at 0x000001D40C2FAC88>\n",
      "28\n"
     ]
    }
   ],
   "source": [
    "class NowaKlasa:\n",
    "    \"Docstring\"\n",
    "    def __init__(self, attr = 0):\n",
    "        self.atrybut = attr # atrybuty klasy\n",
    "\n",
    "    def przedstaw_atrybut(self): # metody wewnątrz klasy\n",
    "        print(\"Wartosc atrybutu wynosi: \" + str(self.atrybut))\n",
    "\n",
    "print(NowaKlasa.__doc__)\n",
    "print(NowaKlasa.przedstaw_atrybut)\n",
    "\n",
    "Instancja = NowaKlasa(0)\n",
    "Instancja.przedstaw_atrybut()\n",
    "\n",
    "Instancja2 = NowaKlasa(5)\n",
    "Instancja2.attr2 = 28\n",
    "Instancja2.przedstaw_atrybut()\n",
    "print(Instancja2)\n",
    "print(Instancja2.attr2)"
   ]
  },
  {
   "cell_type": "markdown",
   "metadata": {},
   "source": [
    "Usuwanie atrybutu:"
   ]
  },
  {
   "cell_type": "code",
   "execution_count": 30,
   "metadata": {},
   "outputs": [
    {
     "name": "stdout",
     "output_type": "stream",
     "text": [
      "28\n"
     ]
    }
   ],
   "source": [
    "print(Instancja2.attr2)\n",
    "del Instancja2.attr2\n"
   ]
  },
  {
   "cell_type": "markdown",
   "metadata": {},
   "source": [
    "Usuwanie instancji:"
   ]
  },
  {
   "cell_type": "code",
   "execution_count": 31,
   "metadata": {},
   "outputs": [
    {
     "ename": "NameError",
     "evalue": "name 'Instancja2' is not defined",
     "output_type": "error",
     "traceback": [
      "\u001b[1;31m---------------------------------------------------------------------------\u001b[0m",
      "\u001b[1;31mNameError\u001b[0m                                 Traceback (most recent call last)",
      "\u001b[1;32m<ipython-input-31-51cb40568600>\u001b[0m in \u001b[0;36m<module>\u001b[1;34m\u001b[0m\n\u001b[0;32m      1\u001b[0m \u001b[1;32mdel\u001b[0m \u001b[0mInstancja2\u001b[0m\u001b[1;33m\u001b[0m\u001b[1;33m\u001b[0m\u001b[0m\n\u001b[1;32m----> 2\u001b[1;33m \u001b[0mprint\u001b[0m\u001b[1;33m(\u001b[0m\u001b[0mInstancja2\u001b[0m\u001b[1;33m)\u001b[0m\u001b[1;33m\u001b[0m\u001b[1;33m\u001b[0m\u001b[0m\n\u001b[0m",
      "\u001b[1;31mNameError\u001b[0m: name 'Instancja2' is not defined"
     ]
    }
   ],
   "source": [
    "del Instancja2\n",
    "print(Instancja2)"
   ]
  },
  {
   "cell_type": "code",
   "execution_count": null,
   "metadata": {},
   "outputs": [],
   "source": []
  }
 ],
 "metadata": {
  "kernelspec": {
   "display_name": "Python 3",
   "language": "python",
   "name": "python3"
  },
  "language_info": {
   "codemirror_mode": {
    "name": "ipython",
    "version": 3
   },
   "file_extension": ".py",
   "mimetype": "text/x-python",
   "name": "python",
   "nbconvert_exporter": "python",
   "pygments_lexer": "ipython3",
   "version": "3.7.6"
  }
 },
 "nbformat": 4,
 "nbformat_minor": 4
}
